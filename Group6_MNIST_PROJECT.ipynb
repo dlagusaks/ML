{
 "cells": [
  {
   "cell_type": "markdown",
   "id": "b014f8c8",
   "metadata": {},
   "source": [
    "# MNIST Original 데이터 불러오기"
   ]
  },
  {
   "cell_type": "code",
   "execution_count": 1,
   "id": "93c3f6de",
   "metadata": {},
   "outputs": [],
   "source": [
    "from sklearn.datasets import fetch_openml\n",
    "mnist=fetch_openml('mnist_784',version=1,as_frame=False)\n",
    "X_org,y_org=mnist[\"data\"],mnist[\"target\"]"
   ]
  },
  {
   "cell_type": "markdown",
   "id": "c8ac7885",
   "metadata": {},
   "source": [
    "#  MNIST Handmade 데이터 불러오기"
   ]
  },
  {
   "cell_type": "code",
   "execution_count": 2,
   "id": "272a9781",
   "metadata": {},
   "outputs": [],
   "source": [
    "import numpy as np\n",
    "data=np.load('H_MNIST_train.npz')\n",
    "X_handmade=data[\"img\"]\n",
    "y_handmade=data[\"label\"]\n"
   ]
  },
  {
   "cell_type": "markdown",
   "id": "8fbaab05",
   "metadata": {},
   "source": [
    "# Original 데이터와 Handmade 데이터 합치기"
   ]
  },
  {
   "cell_type": "code",
   "execution_count": 3,
   "id": "895698f2",
   "metadata": {},
   "outputs": [],
   "source": [
    "X_org=X_org.reshape(-1,784)\n",
    "X_handmade=X_handmade.reshape(-1,784)"
   ]
  },
  {
   "cell_type": "code",
   "execution_count": 4,
   "id": "cd9a3cd2",
   "metadata": {},
   "outputs": [],
   "source": [
    "y=np.concatenate((y_org,y_handmade),axis=0)\n",
    "X=X.astype(np.int8)"
   ]
  },
  {
   "cell_type": "code",
   "execution_count": 5,
   "id": "19450d65",
   "metadata": {},
   "outputs": [],
   "source": [
    "y=np.concatenate((y_org,y_handmade),axis=0)\n",
    "y=y.astype(np.int8)"
   ]
  },
  {
   "cell_type": "markdown",
   "id": "869bdeea",
   "metadata": {},
   "source": [
    "# Train, Validation, Test set으로 나누기"
   ]
  },
  {
   "cell_type": "code",
   "execution_count": 6,
   "id": "a7372c27",
   "metadata": {},
   "outputs": [],
   "source": [
    "from sklearn.model_selection import train_test_split\n",
    "X_train0,X_test,y_train0,y_test=train_test_split(X,y,train_size=0.9,test_size=0.1,random_state=42)\n",
    "X_train,X_val,y_train,y_val=train_test_split(X_train0,y_train0,train_size=0.7,random_state=42)\n",
    "#X_train=X[:60000]\n",
    "#y_train=y[:60000]\n",
    "#X_val=X[60000:75000]\n",
    "#y_val=y[60000:75000]\n",
    "#X_test=X[75000:]\n",
    "#y_test=y[75000:]"
   ]
  },
  {
   "cell_type": "markdown",
   "id": "5e6b9970",
   "metadata": {},
   "source": [
    "# RandomForest의 경우"
   ]
  },
  {
   "cell_type": "code",
   "execution_count": 7,
   "id": "e9df68d0",
   "metadata": {},
   "outputs": [
    {
     "data": {
      "text/plain": [
       "0.8813325674899483"
      ]
     },
     "execution_count": 7,
     "metadata": {},
     "output_type": "execute_result"
    }
   ],
   "source": [
    "from sklearn.ensemble import RandomForestClassifier\n",
    "rf_clf=RandomForestClassifier(n_estimators=500,n_jobs=-1)\n",
    "rf_clf.fit(X_train,y_train)\n",
    "rf_clf.predict(X_val)\n",
    "rf_clf.score(X_val,y_val)"
   ]
  },
  {
   "cell_type": "code",
   "execution_count": 8,
   "id": "fdbf91c7",
   "metadata": {},
   "outputs": [
    {
     "data": {
      "text/plain": [
       "0.8826509511993383"
      ]
     },
     "execution_count": 8,
     "metadata": {},
     "output_type": "execute_result"
    }
   ],
   "source": [
    "rf_clf.score(X_test,y_test)"
   ]
  },
  {
   "cell_type": "code",
   "execution_count": 9,
   "id": "06d8add1",
   "metadata": {},
   "outputs": [],
   "source": [
    "def display_score(score):\n",
    "    print(\"점수: \",score)\n",
    "    print(\"평균: \",score.mean())\n",
    "    print(\"표준편차: \",score.std())"
   ]
  },
  {
   "cell_type": "code",
   "execution_count": 10,
   "id": "fdbc586e",
   "metadata": {},
   "outputs": [
    {
     "name": "stdout",
     "output_type": "stream",
     "text": [
      "점수:  [0.8780768  0.87331802 0.88037414 0.8824881  0.87772854 0.87756442\n",
      " 0.87657968 0.87493845 0.87986214 0.87904152]\n",
      "평균:  0.8779971808804682\n",
      "표준편차:  0.0025280916808775294\n"
     ]
    }
   ],
   "source": [
    "from sklearn.model_selection import cross_val_score\n",
    "rf_score=cross_val_score(rf_clf, X_train, y_train, cv=10, scoring=\"accuracy\")\n",
    "display_score(rf_score)"
   ]
  },
  {
   "cell_type": "code",
   "execution_count": 13,
   "id": "8e9b4642",
   "metadata": {},
   "outputs": [],
   "source": [
    "import matplotlib.pyplot as plt\n",
    "from sklearn.metrics import mean_squared_error\n",
    "from sklearn.model_selection import train_test_split\n",
    "\n",
    "def plot_learning_curves(model, X, y):\n",
    "    X_train1,X_val1,y_train1,y_val1=train_test_split(X,y,test_size=0.2)\n",
    "    train_errors, val_errors = [], []\n",
    "    for m in range(1, 80):\n",
    "        model.fit(X_train1[:m], y_train1[:m])\n",
    "        y_train_predict = model.predict(X_train1[:m])\n",
    "        y_val_predict = model.predict(X_val1)\n",
    "        train_errors.append(mean_squared_error(y_train1[:m], y_train_predict))\n",
    "        val_errors.append(mean_squared_error(y_val1, y_val_predict))\n",
    "\n",
    "    plt.plot(np.sqrt(train_errors), \"r-+\", linewidth=2, label=\"train\")\n",
    "    plt.plot(np.sqrt(val_errors), \"b-\", linewidth=3, label=\"val\")\n",
    "    plt.legend(loc=\"upper right\", fontsize=14)   # not shown in the book\n",
    "    plt.xlabel(\"Training set size\", fontsize=14) # not shown\n",
    "    plt.ylabel(\"RMSE\", fontsize=14)  "
   ]
  },
  {
   "cell_type": "code",
   "execution_count": 14,
   "id": "70500e2b",
   "metadata": {},
   "outputs": [
    {
     "data": {
      "image/png": "[encoded data removed]",
      "text/plain": [
       "<Figure size 432x288 with 1 Axes>"
      ]
     },
     "metadata": {
      "needs_background": "light"
     },
     "output_type": "display_data"
    }
   ],
   "source": [
    "plot_learning_curves(rf_clf,X_train,y_train)"
   ]
  },
  {
   "cell_type": "markdown",
   "id": "0cdc79c2",
   "metadata": {},
   "source": [
    "# Softmax Regression의 경우"
   ]
  },
  {
   "cell_type": "code",
   "execution_count": 15,
   "id": "af556798",
   "metadata": {},
   "outputs": [
    {
     "name": "stderr",
     "output_type": "stream",
     "text": [
      "C:\\Users\\User\\anaconda3\\lib\\site-packages\\sklearn\\linear_model\\_logistic.py:814: ConvergenceWarning: lbfgs failed to converge (status=1):\n",
      "STOP: TOTAL NO. of ITERATIONS REACHED LIMIT.\n",
      "\n",
      "Increase the number of iterations (max_iter) or scale the data as shown in:\n",
      "    https://scikit-learn.org/stable/modules/preprocessing.html\n",
      "Please also refer to the documentation for alternative solver options:\n",
      "    https://scikit-learn.org/stable/modules/linear_model.html#logistic-regression\n",
      "  n_iter_i = _check_optimize_result(\n"
     ]
    },
    {
     "data": {
      "text/plain": [
       "0.7187440168485545"
      ]
     },
     "execution_count": 15,
     "metadata": {},
     "output_type": "execute_result"
    }
   ],
   "source": [
    "from sklearn.linear_model import LogisticRegression\n",
    "n_epoch = 500\n",
    "softmax_reg = LogisticRegression(multi_class=\"multinomial\",solver=\"lbfgs\", random_state=10, \n",
    "                                max_iter=n_epoch, penalty='l2', C=1, tol=0.001)\n",
    "softmax_reg.fit(X_train, y_train)\n",
    "softmax_reg.predict(X_val)\n",
    "softmax_reg.score(X_val, y_val)"
   ]
  },
  {
   "cell_type": "code",
   "execution_count": 16,
   "id": "dc221ec1",
   "metadata": {},
   "outputs": [
    {
     "name": "stderr",
     "output_type": "stream",
     "text": [
      "C:\\Users\\User\\anaconda3\\lib\\site-packages\\sklearn\\linear_model\\_logistic.py:814: ConvergenceWarning: lbfgs failed to converge (status=1):\n",
      "STOP: TOTAL NO. of ITERATIONS REACHED LIMIT.\n",
      "\n",
      "Increase the number of iterations (max_iter) or scale the data as shown in:\n",
      "    https://scikit-learn.org/stable/modules/preprocessing.html\n",
      "Please also refer to the documentation for alternative solver options:\n",
      "    https://scikit-learn.org/stable/modules/linear_model.html#logistic-regression\n",
      "  n_iter_i = _check_optimize_result(\n",
      "C:\\Users\\User\\anaconda3\\lib\\site-packages\\sklearn\\linear_model\\_logistic.py:814: ConvergenceWarning: lbfgs failed to converge (status=1):\n",
      "STOP: TOTAL NO. of ITERATIONS REACHED LIMIT.\n",
      "\n",
      "Increase the number of iterations (max_iter) or scale the data as shown in:\n",
      "    https://scikit-learn.org/stable/modules/preprocessing.html\n",
      "Please also refer to the documentation for alternative solver options:\n",
      "    https://scikit-learn.org/stable/modules/linear_model.html#logistic-regression\n",
      "  n_iter_i = _check_optimize_result(\n",
      "C:\\Users\\User\\anaconda3\\lib\\site-packages\\sklearn\\linear_model\\_logistic.py:814: ConvergenceWarning: lbfgs failed to converge (status=1):\n",
      "STOP: TOTAL NO. of ITERATIONS REACHED LIMIT.\n",
      "\n",
      "Increase the number of iterations (max_iter) or scale the data as shown in:\n",
      "    https://scikit-learn.org/stable/modules/preprocessing.html\n",
      "Please also refer to the documentation for alternative solver options:\n",
      "    https://scikit-learn.org/stable/modules/linear_model.html#logistic-regression\n",
      "  n_iter_i = _check_optimize_result(\n",
      "C:\\Users\\User\\anaconda3\\lib\\site-packages\\sklearn\\linear_model\\_logistic.py:814: ConvergenceWarning: lbfgs failed to converge (status=1):\n",
      "STOP: TOTAL NO. of ITERATIONS REACHED LIMIT.\n",
      "\n",
      "Increase the number of iterations (max_iter) or scale the data as shown in:\n",
      "    https://scikit-learn.org/stable/modules/preprocessing.html\n",
      "Please also refer to the documentation for alternative solver options:\n",
      "    https://scikit-learn.org/stable/modules/linear_model.html#logistic-regression\n",
      "  n_iter_i = _check_optimize_result(\n",
      "C:\\Users\\User\\anaconda3\\lib\\site-packages\\sklearn\\linear_model\\_logistic.py:814: ConvergenceWarning: lbfgs failed to converge (status=1):\n",
      "STOP: TOTAL NO. of ITERATIONS REACHED LIMIT.\n",
      "\n",
      "Increase the number of iterations (max_iter) or scale the data as shown in:\n",
      "    https://scikit-learn.org/stable/modules/preprocessing.html\n",
      "Please also refer to the documentation for alternative solver options:\n",
      "    https://scikit-learn.org/stable/modules/linear_model.html#logistic-regression\n",
      "  n_iter_i = _check_optimize_result(\n",
      "C:\\Users\\User\\anaconda3\\lib\\site-packages\\sklearn\\linear_model\\_logistic.py:814: ConvergenceWarning: lbfgs failed to converge (status=1):\n",
      "STOP: TOTAL NO. of ITERATIONS REACHED LIMIT.\n",
      "\n",
      "Increase the number of iterations (max_iter) or scale the data as shown in:\n",
      "    https://scikit-learn.org/stable/modules/preprocessing.html\n",
      "Please also refer to the documentation for alternative solver options:\n",
      "    https://scikit-learn.org/stable/modules/linear_model.html#logistic-regression\n",
      "  n_iter_i = _check_optimize_result(\n",
      "C:\\Users\\User\\anaconda3\\lib\\site-packages\\sklearn\\linear_model\\_logistic.py:814: ConvergenceWarning: lbfgs failed to converge (status=1):\n",
      "STOP: TOTAL NO. of ITERATIONS REACHED LIMIT.\n",
      "\n",
      "Increase the number of iterations (max_iter) or scale the data as shown in:\n",
      "    https://scikit-learn.org/stable/modules/preprocessing.html\n",
      "Please also refer to the documentation for alternative solver options:\n",
      "    https://scikit-learn.org/stable/modules/linear_model.html#logistic-regression\n",
      "  n_iter_i = _check_optimize_result(\n",
      "C:\\Users\\User\\anaconda3\\lib\\site-packages\\sklearn\\linear_model\\_logistic.py:814: ConvergenceWarning: lbfgs failed to converge (status=1):\n",
      "STOP: TOTAL NO. of ITERATIONS REACHED LIMIT.\n",
      "\n",
      "Increase the number of iterations (max_iter) or scale the data as shown in:\n",
      "    https://scikit-learn.org/stable/modules/preprocessing.html\n",
      "Please also refer to the documentation for alternative solver options:\n",
      "    https://scikit-learn.org/stable/modules/linear_model.html#logistic-regression\n",
      "  n_iter_i = _check_optimize_result(\n",
      "C:\\Users\\User\\anaconda3\\lib\\site-packages\\sklearn\\linear_model\\_logistic.py:814: ConvergenceWarning: lbfgs failed to converge (status=1):\n",
      "STOP: TOTAL NO. of ITERATIONS REACHED LIMIT.\n",
      "\n",
      "Increase the number of iterations (max_iter) or scale the data as shown in:\n",
      "    https://scikit-learn.org/stable/modules/preprocessing.html\n",
      "Please also refer to the documentation for alternative solver options:\n",
      "    https://scikit-learn.org/stable/modules/linear_model.html#logistic-regression\n",
      "  n_iter_i = _check_optimize_result(\n"
     ]
    },
    {
     "name": "stdout",
     "output_type": "stream",
     "text": [
      "점수:  [0.7085658  0.70561208 0.72120118 0.70244543 0.71541113 0.71770885\n",
      " 0.70556376 0.70917446 0.72427376 0.71852946]\n",
      "평균:  0.7128485905291092\n",
      "표준편차:  0.007129265518567528\n"
     ]
    },
    {
     "name": "stderr",
     "output_type": "stream",
     "text": [
      "C:\\Users\\User\\anaconda3\\lib\\site-packages\\sklearn\\linear_model\\_logistic.py:814: ConvergenceWarning: lbfgs failed to converge (status=1):\n",
      "STOP: TOTAL NO. of ITERATIONS REACHED LIMIT.\n",
      "\n",
      "Increase the number of iterations (max_iter) or scale the data as shown in:\n",
      "    https://scikit-learn.org/stable/modules/preprocessing.html\n",
      "Please also refer to the documentation for alternative solver options:\n",
      "    https://scikit-learn.org/stable/modules/linear_model.html#logistic-regression\n",
      "  n_iter_i = _check_optimize_result(\n"
     ]
    }
   ],
   "source": [
    "sm_score=cross_val_score(softmax_reg, X_train, y_train, cv=10, scoring=\"accuracy\")\n",
    "display_score(sm_score)"
   ]
  },
  {
   "cell_type": "markdown",
   "id": "7e3f2b22",
   "metadata": {},
   "source": [
    "# LinearSVC(이중분류기)를 OVR을 통해서 다중분류기로 "
   ]
  },
  {
   "cell_type": "code",
   "execution_count": 17,
   "id": "a1d65023",
   "metadata": {
    "scrolled": true
   },
   "outputs": [
    {
     "name": "stderr",
     "output_type": "stream",
     "text": [
      "C:\\Users\\User\\anaconda3\\lib\\site-packages\\sklearn\\svm\\_base.py:1206: ConvergenceWarning: Liblinear failed to converge, increase the number of iterations.\n",
      "  warnings.warn(\n",
      "C:\\Users\\User\\anaconda3\\lib\\site-packages\\sklearn\\svm\\_base.py:1206: ConvergenceWarning: Liblinear failed to converge, increase the number of iterations.\n",
      "  warnings.warn(\n",
      "C:\\Users\\User\\anaconda3\\lib\\site-packages\\sklearn\\svm\\_base.py:1206: ConvergenceWarning: Liblinear failed to converge, increase the number of iterations.\n",
      "  warnings.warn(\n",
      "C:\\Users\\User\\anaconda3\\lib\\site-packages\\sklearn\\svm\\_base.py:1206: ConvergenceWarning: Liblinear failed to converge, increase the number of iterations.\n",
      "  warnings.warn(\n",
      "C:\\Users\\User\\anaconda3\\lib\\site-packages\\sklearn\\svm\\_base.py:1206: ConvergenceWarning: Liblinear failed to converge, increase the number of iterations.\n",
      "  warnings.warn(\n",
      "C:\\Users\\User\\anaconda3\\lib\\site-packages\\sklearn\\svm\\_base.py:1206: ConvergenceWarning: Liblinear failed to converge, increase the number of iterations.\n",
      "  warnings.warn(\n",
      "C:\\Users\\User\\anaconda3\\lib\\site-packages\\sklearn\\svm\\_base.py:1206: ConvergenceWarning: Liblinear failed to converge, increase the number of iterations.\n",
      "  warnings.warn(\n",
      "C:\\Users\\User\\anaconda3\\lib\\site-packages\\sklearn\\svm\\_base.py:1206: ConvergenceWarning: Liblinear failed to converge, increase the number of iterations.\n",
      "  warnings.warn(\n",
      "C:\\Users\\User\\anaconda3\\lib\\site-packages\\sklearn\\svm\\_base.py:1206: ConvergenceWarning: Liblinear failed to converge, increase the number of iterations.\n",
      "  warnings.warn(\n",
      "C:\\Users\\User\\anaconda3\\lib\\site-packages\\sklearn\\svm\\_base.py:1206: ConvergenceWarning: Liblinear failed to converge, increase the number of iterations.\n",
      "  warnings.warn(\n"
     ]
    },
    {
     "data": {
      "text/plain": [
       "0.31943327589507947"
      ]
     },
     "execution_count": 17,
     "metadata": {},
     "output_type": "execute_result"
    }
   ],
   "source": [
    "from sklearn.multiclass import OneVsRestClassifier\n",
    "from sklearn.svm import LinearSVC\n",
    "ovr1_clf=OneVsRestClassifier(LinearSVC(C=14,loss=\"hinge\",random_state=42))#SVM으로 하나\n",
    "ovr1_clf.fit(X_train,y_train)\n",
    "ovr1_clf.score(X_val,y_val)"
   ]
  },
  {
   "cell_type": "markdown",
   "id": "217f1dbb",
   "metadata": {},
   "source": [
    "# SGD의 경우"
   ]
  },
  {
   "cell_type": "code",
   "execution_count": 18,
   "id": "e303d79c",
   "metadata": {},
   "outputs": [
    {
     "data": {
      "text/plain": [
       "0.6941687344913151"
      ]
     },
     "execution_count": 18,
     "metadata": {},
     "output_type": "execute_result"
    }
   ],
   "source": [
    "from sklearn.linear_model import SGDClassifier\n",
    "\n",
    "sgd_clf = SGDClassifier(random_state=42)\n",
    "sgd_clf.fit(X_train, y_train)\n",
    "sgd_clf.score(X_test,y_test)"
   ]
  },
  {
   "cell_type": "markdown",
   "id": "0807774b",
   "metadata": {},
   "source": [
    "# RandomForest를 모델로 선정하였음"
   ]
  },
  {
   "cell_type": "markdown",
   "id": "fb8a868a",
   "metadata": {},
   "source": [
    "# RandomForest의 최적의 파라미터를 찾기 위한 GridSearch"
   ]
  },
  {
   "cell_type": "code",
   "execution_count": 19,
   "id": "5a922f35",
   "metadata": {},
   "outputs": [
    {
     "name": "stdout",
     "output_type": "stream",
     "text": [
      "GridSearchCV 최적 파라미터: {'max_depth': 10, 'max_leaf_nodes': 40}\n"
     ]
    }
   ],
   "source": [
    "from sklearn.ensemble import RandomForestClassifier\n",
    "from sklearn.model_selection import GridSearchCV\n",
    "\n",
    "\n",
    "Rd_tree = RandomForestClassifier()\n",
    "\n",
    "### parameter 들을 dictionary 형태로 설정\n",
    "parameters = {'max_depth':[5,10,15,20], 'max_leaf_nodes' :[10,20,30,40] }\n",
    "\n",
    "\n",
    "### refit=True 가 default 임. True이면 가장 좋은 파라미터 설정으로 재 학습 시킴.  \n",
    "grid_Rd_tree = GridSearchCV(Rd_tree, param_grid=parameters, cv=3, refit=True)\n",
    "\n",
    "# 붓꽃 Train 데이터로 param_grid의 하이퍼 파라미터들을 순차적으로 학습/평가 .\n",
    "grid_Rd_tree.fit(X_train, y_train)\n",
    "\n",
    "print('GridSearchCV 최적 파라미터:', grid_Rd_tree.best_params_)"
   ]
  },
  {
   "cell_type": "code",
   "execution_count": 20,
   "id": "8ca27e5c",
   "metadata": {},
   "outputs": [
    {
     "data": {
      "text/plain": [
       "0.787172123300785"
      ]
     },
     "execution_count": 20,
     "metadata": {},
     "output_type": "execute_result"
    }
   ],
   "source": [
    "rf_clf1=RandomForestClassifier(n_estimators=1000,max_depth=10,max_leaf_nodes=40,n_jobs=-1)\n",
    "rf_clf1.fit(X_train,y_train)\n",
    "rf_clf1.predict(X_val)\n",
    "rf_clf1.score(X_val,y_val)"
   ]
  },
  {
   "cell_type": "code",
   "execution_count": 22,
   "id": "e2ed569f",
   "metadata": {},
   "outputs": [
    {
     "name": "stdout",
     "output_type": "stream",
     "text": [
      "GridSearchCV 최적 파라미터: {'max_depth': None, 'max_leaf_nodes': None}\n"
     ]
    }
   ],
   "source": [
    "from sklearn.ensemble import RandomForestClassifier\n",
    "from sklearn.model_selection import GridSearchCV\n",
    "\n",
    "\n",
    "Rd_tree = RandomForestClassifier()\n",
    "\n",
    "### parameter 들을 dictionary 형태로 설정\n",
    "parameters = {'max_depth':[None], 'max_leaf_nodes' :[60,80,100,None] }\n",
    "\n",
    "\n",
    "### refit=True 가 default 임. True이면 가장 좋은 파라미터 설정으로 재 학습 시킴.  \n",
    "grid_Rd_tree = GridSearchCV(Rd_tree, param_grid=parameters, cv=3, refit=True)\n",
    "\n",
    "# 붓꽃 Train 데이터로 param_grid의 하이퍼 파라미터들을 순차적으로 학습/평가 .\n",
    "grid_Rd_tree.fit(X_train, y_train)\n",
    "\n",
    "print('GridSearchCV 최적 파라미터:', grid_Rd_tree.best_params_)"
   ]
  },
  {
   "cell_type": "code",
   "execution_count": 23,
   "id": "7914995d",
   "metadata": {},
   "outputs": [
    {
     "data": {
      "text/plain": [
       "0.8820218265364733"
      ]
     },
     "execution_count": 23,
     "metadata": {},
     "output_type": "execute_result"
    }
   ],
   "source": [
    "rf_clf1=RandomForestClassifier(n_estimators=1000,max_depth=None,max_leaf_nodes=None,n_jobs=-1)\n",
    "rf_clf1.fit(X_train,y_train)\n",
    "rf_clf1.predict(X_val)\n",
    "rf_clf1.score(X_val,y_val)"
   ]
  },
  {
   "cell_type": "code",
   "execution_count": 24,
   "id": "d9e82767",
   "metadata": {},
   "outputs": [
    {
     "data": {
      "text/plain": [
       "0.8907524411257898"
      ]
     },
     "execution_count": 24,
     "metadata": {},
     "output_type": "execute_result"
    }
   ],
   "source": [
    "rf_clf1=RandomForestClassifier(n_estimators=1000,max_depth=None,max_leaf_nodes=None,n_jobs=-1,bootstrap=False)\n",
    "rf_clf1.fit(X_train,y_train)\n",
    "rf_clf1.predict(X_val)\n",
    "rf_clf1.score(X_val,y_val)"
   ]
  },
  {
   "cell_type": "code",
   "execution_count": 25,
   "id": "7428edf5",
   "metadata": {},
   "outputs": [
    {
     "data": {
      "text/plain": [
       "0.882979130767758"
      ]
     },
     "execution_count": 25,
     "metadata": {},
     "output_type": "execute_result"
    }
   ],
   "source": [
    "rf_clf1=RandomForestClassifier(n_estimators=1500,n_jobs=-1)#최적의 파라미터 넣기\n",
    "rf_clf1.fit(X_train,y_train)\n",
    "rf_clf1.predict(X_val)\n",
    "rf_clf1.score(X_val,y_val)"
   ]
  },
  {
   "cell_type": "code",
   "execution_count": 28,
   "id": "a8f83f93",
   "metadata": {},
   "outputs": [
    {
     "data": {
      "text/plain": [
       "0.886923224200651"
      ]
     },
     "execution_count": 28,
     "metadata": {},
     "output_type": "execute_result"
    }
   ],
   "source": [
    "rf_clf1=RandomForestClassifier(n_estimators=1000,max_depth=None,max_leaf_nodes=None,n_jobs=-1,bootstrap=False,criterion='entropy')\n",
    "rf_clf1.fit(X_train,y_train)\n",
    "rf_clf1.predict(X_val)\n",
    "rf_clf1.score(X_val,y_val)"
   ]
  },
  {
   "cell_type": "code",
   "execution_count": 29,
   "id": "42625baa",
   "metadata": {},
   "outputs": [
    {
     "data": {
      "text/plain": [
       "0.8909439019720468"
      ]
     },
     "execution_count": 29,
     "metadata": {},
     "output_type": "execute_result"
    }
   ],
   "source": [
    "rf_clf1=RandomForestClassifier(n_estimators=1000,max_depth=None,max_leaf_nodes=None,n_jobs=-1,bootstrap=False,criterion='gini')#최적의 파라미터 넣기\n",
    "rf_clf1.fit(X_train,y_train)\n",
    "rf_clf1.predict(X_val)\n",
    "rf_clf1.score(X_val,y_val)\n",
    "#best"
   ]
  },
  {
   "cell_type": "code",
   "execution_count": 30,
   "id": "8e176991",
   "metadata": {},
   "outputs": [
    {
     "data": {
      "text/plain": [
       "0.8897568447252537"
      ]
     },
     "execution_count": 30,
     "metadata": {},
     "output_type": "execute_result"
    }
   ],
   "source": [
    "rf_clf1=RandomForestClassifier(n_estimators=1000,max_depth=None,max_leaf_nodes=None,n_jobs=-1,bootstrap=False,criterion='gini',warm_start=True)#최적의 파라미터 넣기\n",
    "rf_clf1.fit(X_train,y_train)\n",
    "rf_clf.predict(X_val)\n",
    "rf_clf1.score(X_val,y_val)"
   ]
  },
  {
   "cell_type": "code",
   "execution_count": 32,
   "id": "61fa2ef0",
   "metadata": {},
   "outputs": [],
   "source": [
    "from time import time\n",
    "time_started=time()\n",
    "rf_clf1=RandomForestClassifier(n_estimators=1000,max_depth=None,max_leaf_nodes=None,n_jobs=-1,bootstrap=False,criterion='gini')\n",
    "rf_clf1.fit(X_train,y_train)\n",
    "rf_clf1.predict(X_val)\n",
    "rf_clf1.score(X_val,y_val)\n",
    "time_ended=time()\n",
    "time_used=time_ended-time_started"
   ]
  },
  {
   "cell_type": "code",
   "execution_count": 33,
   "id": "629672f3",
   "metadata": {},
   "outputs": [
    {
     "name": "stdout",
     "output_type": "stream",
     "text": [
      "91.64159083366394\n"
     ]
    }
   ],
   "source": [
    "print(time_used)"
   ]
  },
  {
   "cell_type": "code",
   "execution_count": 34,
   "id": "a438d170",
   "metadata": {},
   "outputs": [
    {
     "data": {
      "text/plain": [
       "0.8910256410256411"
      ]
     },
     "execution_count": 34,
     "metadata": {},
     "output_type": "execute_result"
    }
   ],
   "source": [
    "rf_clf1.score(X_test,y_test)"
   ]
  },
  {
   "cell_type": "code",
   "execution_count": null,
   "id": "2c7b38f3",
   "metadata": {},
   "outputs": [],
   "source": []
  }
 ],
 "metadata": {
  "kernelspec": {
   "display_name": "Python 3 (ipykernel)",
   "language": "python",
   "name": "python3"
  },
  "language_info": {
   "codemirror_mode": {
    "name": "ipython",
    "version": 3
   },
   "file_extension": ".py",
   "mimetype": "text/x-python",
   "name": "python",
   "nbconvert_exporter": "python",
   "pygments_lexer": "ipython3",
   "version": "3.9.12"
  }
 },
 "nbformat": 4,
 "nbformat_minor": 5
}
